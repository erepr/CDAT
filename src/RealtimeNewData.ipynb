{
 "cells": [
  {
   "cell_type": "markdown",
   "metadata": {},
   "source": [
    "##### Listen to realtime updates on data uploaded by doctor  \n",
    "##### Make a queue for the data waiting to be trained"
   ]
  },
  {
   "cell_type": "code",
   "execution_count": 1,
   "metadata": {},
   "outputs": [],
   "source": [
    "import firebase_admin\n",
    "from firebase_admin import credentials\n",
    "from firebase_admin import firestore\n",
    "\n",
    "# Use a service account\n",
    "cred = credentials.Certificate('doctor_keys/doctor-4164c-firebase-adminsdk-2s6v3-37d33ca77e.json')\n",
    "firebase_admin.initialize_app(cred)\n",
    "\n",
    "db = firestore.client()"
   ]
  },
  {
   "cell_type": "code",
   "execution_count": 2,
   "metadata": {},
   "outputs": [],
   "source": [
    "import threading\n",
    "\n",
    "callback_done = threading.Event()\n",
    "\n",
    "# Listens to new data and pushes it to queue\n",
    "def on_snapshot(doc_snapshot, changes, read_time):\n",
    "    for doc in doc_snapshot:\n",
    "        data = {u'Doc': doc.id}\n",
    "        db.collection(u'TodoDoc').document(doc.id).set(data)\n",
    "    callback_done.set()\n",
    "\n",
    "doc_ref = db.collection(u'csv')\n",
    "# Watch the document\n",
    "doc_watch = doc_ref.on_snapshot(on_snapshot)"
   ]
  }
 ],
 "metadata": {
  "kernelspec": {
   "display_name": "Python 3",
   "language": "python",
   "name": "python3"
  },
  "language_info": {
   "codemirror_mode": {
    "name": "ipython",
    "version": 3
   },
   "file_extension": ".py",
   "mimetype": "text/x-python",
   "name": "python",
   "nbconvert_exporter": "python",
   "pygments_lexer": "ipython3",
   "version": "3.8.8"
  }
 },
 "nbformat": 4,
 "nbformat_minor": 4
}
