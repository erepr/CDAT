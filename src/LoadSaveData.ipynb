{
 "cells": [
  {
   "cell_type": "markdown",
   "metadata": {},
   "source": [
    "#### Connect Firebase"
   ]
  },
  {
   "cell_type": "code",
   "execution_count": null,
   "metadata": {},
   "outputs": [],
   "source": [
    "import firebase_admin\n",
    "from firebase_admin import credentials\n",
    "from firebase_admin import firestore\n",
    "\n",
    "import pandas as pd\n",
    "\n",
    "# Use a service account\n",
    "cred = credentials.Certificate('doctor_keys/doctor-4164c-firebase-adminsdk-2s6v3-37d33ca77e.json')\n",
    "firebase_admin.initialize_app(cred)\n",
    "\n",
    "db = firestore.client()"
   ]
  },
  {
   "cell_type": "markdown",
   "metadata": {},
   "source": [
    "#### Get a list of documents "
   ]
  },
  {
   "cell_type": "markdown",
   "metadata": {},
   "source": [
    "Data uploaded by gastroenterologists for every visited patient"
   ]
  },
  {
   "cell_type": "code",
   "execution_count": null,
   "metadata": {},
   "outputs": [],
   "source": [
    "getTodo = db.collection(u'TodoDoc').stream()\n",
    "td = [i.id for i in getTodo]"
   ]
  },
  {
   "cell_type": "markdown",
   "metadata": {},
   "source": [
    "#### Batch wise save data for every 10 hours"
   ]
  },
  {
   "cell_type": "code",
   "execution_count": null,
   "metadata": {},
   "outputs": [],
   "source": [
    "import schedule\n",
    "import time\n",
    "\n",
    "def job():\n",
    "    for i in td:\n",
    "    asd = db.collection(u'csv').document(i).get().to_dict()\n",
    "    new_df = pd.DataFrame.from_dict(asd, orient=\"index\").T\n",
    "    new_df = new_df[[\"Wellbeing\", \"SiteDisease\", \"BodyWeight\", \"Appetite\", \"AvgTemp\",\n",
    "                \"Above100F\", \"Vomit\", \"LiquidStools\", \"Diarrhea\", \"BowelMovements\",\n",
    "                \"Arthritis\", \"Skin\", \"Eye\", \"AbdominalPain\", \"Pain\", \"PainAwake\", \"AbdominalMass\",\n",
    "                \"AbdominalTenderness\", \"Fissure\", \"Blood\", \"Result\"]]\n",
    "    new_df[['BodyWeight', 'AvgTemp']] = new_df[['BodyWeight', 'AvgTemp']].astype('int32')\n",
    "    old_data = pd.read_csv(\"data.csv\")\n",
    "    frames = [old_data, new_df]\n",
    "    result = pd.concat(frames, axis=0, ignore_index = True)\n",
    "    result.to_csv('data.csv', index=False)\n",
    "    db.collection(u'TodoDoc').document(i).delete() # deletes document\n",
    "\n",
    "schedule.every(10).hour.do(job)\n",
    "\n",
    "while True:\n",
    "    schedule.run_pending()\n",
    "    time.sleep(1)"
   ]
  }
 ],
 "metadata": {
  "kernelspec": {
   "display_name": "Python 3",
   "language": "python",
   "name": "python3"
  },
  "language_info": {
   "codemirror_mode": {
    "name": "ipython",
    "version": 3
   },
   "file_extension": ".py",
   "mimetype": "text/x-python",
   "name": "python",
   "nbconvert_exporter": "python",
   "pygments_lexer": "ipython3",
   "version": "3.8.8"
  }
 },
 "nbformat": 4,
 "nbformat_minor": 4
}
